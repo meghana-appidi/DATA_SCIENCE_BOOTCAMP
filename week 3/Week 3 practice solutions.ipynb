{
 "cells": [
  {
   "cell_type": "markdown",
   "id": "f47f6754",
   "metadata": {},
   "source": [
    "# Week 3 Solutions for practice questions"
   ]
  },
  {
   "cell_type": "markdown",
   "id": "e8f06b29",
   "metadata": {},
   "source": [
    "## Numpy Practice Questions\n",
    "\n",
    "1. Define two custom numpy arrays, say A and B. Generate two new numpy arrays by stacking A and B vertically and horizontally."
   ]
  },
  {
   "cell_type": "code",
   "execution_count": 15,
   "id": "a868cb7f",
   "metadata": {},
   "outputs": [
    {
     "name": "stdout",
     "output_type": "stream",
     "text": [
      "[[1 2 3]\n",
      " [2 5 6]]\n",
      "[1 2 3 2 5 6]\n"
     ]
    }
   ],
   "source": [
    "a = np.array([1,2,3])\n",
    "b = np.array([2,5,6])\n",
    "\n",
    "c=np.vstack([a,b])\n",
    "d=np.hstack([a,b])\n",
    "print(c)\n",
    "print(d)\n"
   ]
  },
  {
   "cell_type": "markdown",
   "id": "e846a8bc",
   "metadata": {},
   "source": [
    " 2.Find common elements between A and B."
   ]
  },
  {
   "cell_type": "code",
   "execution_count": 1,
   "id": "a80b2516",
   "metadata": {},
   "outputs": [
    {
     "name": "stdout",
     "output_type": "stream",
     "text": [
      "Common elements between A and B: [3 4 5]\n"
     ]
    }
   ],
   "source": [
    "import numpy as np\n",
    "\n",
    "# Defining two arrays\n",
    "A = np.array([1, 2, 3, 4, 5])\n",
    "B = np.array([3, 4, 5, 6, 7])\n",
    "\n",
    "# Finding the intersection of arrays A and B\n",
    "common_elements = np.intersect1d(A, B)\n",
    "\n",
    "print(\"Common elements between A and B:\", common_elements)\n"
   ]
  },
  {
   "cell_type": "markdown",
   "id": "39a30a0d",
   "metadata": {},
   "source": [
    "3. Extract all numbers from A which are within a specific range. eg between 5 and 10."
   ]
  },
  {
   "cell_type": "code",
   "execution_count": 2,
   "id": "955a5306",
   "metadata": {},
   "outputs": [
    {
     "name": "stdout",
     "output_type": "stream",
     "text": [
      "Numbers in range [5, 10]: [7 9 5 8]\n"
     ]
    }
   ],
   "source": [
    "import numpy as np\n",
    "\n",
    "A = np.array([1, 4, 7, 9, 12, 5, 8])\n",
    "lower_bound = 5\n",
    "upper_bound = 10\n",
    "\n",
    "# Using np.where() to find indices of numbers within the range [5, 10]\n",
    "indices = np.where((A >= lower_bound) & (A <= upper_bound))\n",
    "\n",
    "# Extracting numbers using the found indices\n",
    "numbers_in_range = A[indices]\n",
    "\n",
    "print(\"Numbers in range [5, 10]:\", numbers_in_range)\n"
   ]
  },
  {
   "cell_type": "markdown",
   "id": "1c90e334",
   "metadata": {},
   "source": [
    "4. Filter the rows of iris_2d that has petallength (3rd column) > 1.5 and sepallength (1st column) < 5.0\n",
    "\turl = 'https://archive.ics.uci.edu/ml/machine-learning-databases/iris/iris.data'\n",
    "\tiris_2d = np.genfromtxt(url, delimiter=',', dtype='float', usecols=[0,1,2,3])"
   ]
  },
  {
   "cell_type": "code",
   "execution_count": 3,
   "id": "0bf9a6a3",
   "metadata": {},
   "outputs": [
    {
     "name": "stdout",
     "output_type": "stream",
     "text": [
      "Filtered Rows:\n",
      " [[4.8 3.4 1.6 0.2]\n",
      " [4.8 3.4 1.9 0.2]\n",
      " [4.7 3.2 1.6 0.2]\n",
      " [4.8 3.1 1.6 0.2]\n",
      " [4.9 2.4 3.3 1. ]\n",
      " [4.9 2.5 4.5 1.7]]\n"
     ]
    }
   ],
   "source": [
    "import numpy as np\n",
    "\n",
    "# URL of the Iris dataset\n",
    "url = 'https://archive.ics.uci.edu/ml/machine-learning-databases/iris/iris.data'\n",
    "\n",
    "# Loading the Iris dataset\n",
    "iris_2d = np.genfromtxt(url, delimiter=',', dtype='float', usecols=[0, 1, 2, 3])\n",
    "\n",
    "# Condition for petal length > 1.5\n",
    "condition_petal_length = iris_2d[:, 2] > 1.5\n",
    "\n",
    "# Condition for sepal length < 5.0\n",
    "condition_sepal_length = iris_2d[:, 0] < 5.0\n",
    "\n",
    "# Combining both conditions\n",
    "combined_condition = condition_petal_length & condition_sepal_length\n",
    "\n",
    "# Filtering the rows based on the combined condition\n",
    "filtered_rows = iris_2d[combined_condition]\n",
    "\n",
    "print(\"Filtered Rows:\\n\", filtered_rows)\n"
   ]
  },
  {
   "cell_type": "markdown",
   "id": "9c480817",
   "metadata": {},
   "source": [
    "## Pandas Practice Questions\n"
   ]
  },
  {
   "cell_type": "markdown",
   "id": "1a5cd36c",
   "metadata": {},
   "source": [
    "1. From df filter the 'Manufacturer', 'Model' and 'Type' for every 20th row starting from 1st (row 0).\n",
    "\n",
    "```\n",
    "df = pd.read_csv('https://raw.githubusercontent.com/selva86/datasets/master/Cars93_miss.csv')\n",
    "```\n"
   ]
  },
  {
   "cell_type": "code",
   "execution_count": 1,
   "id": "c0f9eb3b",
   "metadata": {
    "scrolled": true
   },
   "outputs": [
    {
     "name": "stderr",
     "output_type": "stream",
     "text": [
      "WARNING: Ignoring invalid distribution -umpy (c:\\users\\himak\\appdata\\roaming\\python\\python39\\site-packages)\n",
      "WARNING: Ignoring invalid distribution -umpy (c:\\users\\himak\\appdata\\roaming\\python\\python39\\site-packages)\n",
      "WARNING: Ignoring invalid distribution -umpy (c:\\users\\himak\\appdata\\roaming\\python\\python39\\site-packages)\n",
      "WARNING: Ignoring invalid distribution -umpy (c:\\users\\himak\\appdata\\roaming\\python\\python39\\site-packages)\n",
      "\n",
      "[notice] A new release of pip is available: 23.2.1 -> 23.3.1\n",
      "[notice] To update, run: python.exe -m pip install --upgrade pip\n"
     ]
    },
    {
     "name": "stdout",
     "output_type": "stream",
     "text": [
      "Defaulting to user installation because normal site-packages is not writeable\n",
      "Collecting pandas\n",
      "  Obtaining dependency information for pandas from https://files.pythonhosted.org/packages/f2/8c/35364a11b3e25f8e29a35420b0d18f65ec4f9d6d38e86a62d16ef998923c/pandas-2.1.1-cp39-cp39-win_amd64.whl.metadata\n",
      "  Using cached pandas-2.1.1-cp39-cp39-win_amd64.whl.metadata (18 kB)\n",
      "Requirement already satisfied: numpy>=1.22.4 in c:\\users\\himak\\appdata\\roaming\\python\\python39\\site-packages (from pandas) (1.26.1)\n",
      "Requirement already satisfied: python-dateutil>=2.8.2 in c:\\users\\himak\\appdata\\roaming\\python\\python39\\site-packages (from pandas) (2.8.2)\n",
      "Requirement already satisfied: pytz>=2020.1 in c:\\users\\himak\\appdata\\roaming\\python\\python39\\site-packages (from pandas) (2021.1)\n",
      "Requirement already satisfied: tzdata>=2022.1 in c:\\users\\himak\\appdata\\roaming\\python\\python39\\site-packages (from pandas) (2023.3)\n",
      "Requirement already satisfied: six>=1.5 in c:\\users\\himak\\appdata\\roaming\\python\\python39\\site-packages (from python-dateutil>=2.8.2->pandas) (1.15.0)\n",
      "Using cached pandas-2.1.1-cp39-cp39-win_amd64.whl (10.8 MB)\n",
      "Installing collected packages: pandas\n",
      "Successfully installed pandas-2.1.1\n",
      "   Manufacturer    Model     Type\n",
      "0         Acura  Integra    Small\n",
      "20     Chrysler  LeBaron  Compact\n",
      "40        Honda  Prelude   Sporty\n",
      "60      Mercury   Cougar  Midsize\n",
      "80       Subaru   Loyale    Small\n"
     ]
    }
   ],
   "source": [
    "!pip3 install pandas\n",
    "import pandas as pd\n",
    "\n",
    "# Load the DataFrame from the provided URL\n",
    "df = pd.read_csv('https://raw.githubusercontent.com/selva86/datasets/master/Cars93_miss.csv')\n",
    "\n",
    "# Select 'Manufacturer', 'Model', and 'Type' columns for every 20th row starting from the first row (row 0)\n",
    "filtered_df = df.iloc[::20, :][['Manufacturer', 'Model', 'Type']]\n",
    "\n",
    "print(filtered_df)"
   ]
  },
  {
   "cell_type": "markdown",
   "id": "b38d4f78",
   "metadata": {},
   "source": [
    "2. Replace missing values in Min.Price and Max.Price columns with their respective mean.\n",
    "\n",
    "```\n",
    "df = pd.read_csv('https://raw.githubusercontent.com/selva86/datasets/master/Cars93_miss.csv')"
   ]
  },
  {
   "cell_type": "code",
   "execution_count": 2,
   "id": "2e6f4023",
   "metadata": {},
   "outputs": [
    {
     "name": "stdout",
     "output_type": "stream",
     "text": [
      "Defaulting to user installation because normal site-packages is not writeable\n",
      "Requirement already satisfied: pandas in c:\\users\\himak\\appdata\\roaming\\python\\python39\\site-packages (2.1.1)\n",
      "Requirement already satisfied: numpy>=1.22.4 in c:\\users\\himak\\appdata\\roaming\\python\\python39\\site-packages (from pandas) (1.26.1)\n",
      "Requirement already satisfied: python-dateutil>=2.8.2 in c:\\users\\himak\\appdata\\roaming\\python\\python39\\site-packages (from pandas) (2.8.2)\n",
      "Requirement already satisfied: pytz>=2020.1 in c:\\users\\himak\\appdata\\roaming\\python\\python39\\site-packages (from pandas) (2021.1)\n",
      "Requirement already satisfied: tzdata>=2022.1 in c:\\users\\himak\\appdata\\roaming\\python\\python39\\site-packages (from pandas) (2023.3)\n",
      "Requirement already satisfied: six>=1.5 in c:\\users\\himak\\appdata\\roaming\\python\\python39\\site-packages (from python-dateutil>=2.8.2->pandas) (1.15.0)\n"
     ]
    },
    {
     "name": "stderr",
     "output_type": "stream",
     "text": [
      "WARNING: Ignoring invalid distribution -umpy (c:\\users\\himak\\appdata\\roaming\\python\\python39\\site-packages)\n",
      "WARNING: Ignoring invalid distribution -umpy (c:\\users\\himak\\appdata\\roaming\\python\\python39\\site-packages)\n",
      "WARNING: Ignoring invalid distribution -umpy (c:\\users\\himak\\appdata\\roaming\\python\\python39\\site-packages)\n",
      "WARNING: Ignoring invalid distribution -umpy (c:\\users\\himak\\appdata\\roaming\\python\\python39\\site-packages)\n",
      "\n",
      "[notice] A new release of pip is available: 23.2.1 -> 23.3.1\n",
      "[notice] To update, run: python.exe -m pip install --upgrade pip\n"
     ]
    },
    {
     "name": "stdout",
     "output_type": "stream",
     "text": [
      "    Min.Price  Max.Price\n",
      "0   12.900000  18.800000\n",
      "1   29.200000  38.700000\n",
      "2   25.900000  32.300000\n",
      "3   17.118605  44.600000\n",
      "4   17.118605  21.459091\n",
      "..        ...        ...\n",
      "88  16.600000  22.700000\n",
      "89  17.600000  22.400000\n",
      "90  22.900000  23.700000\n",
      "91  21.800000  23.500000\n",
      "92  24.800000  28.500000\n",
      "\n",
      "[93 rows x 2 columns]\n"
     ]
    }
   ],
   "source": [
    "!pip3 install pandas\n",
    "import pandas as pd\n",
    "\n",
    "# Load the DataFrame from the provided URL\n",
    "df = pd.read_csv('https://raw.githubusercontent.com/selva86/datasets/master/Cars93_miss.csv')\n",
    "\n",
    "# Calculate the mean of 'Min.Price' excluding NaN values\n",
    "min_price_mean = df['Min.Price'].mean()\n",
    "\n",
    "# Replace NaN values in 'Min.Price' with its mean\n",
    "df['Min.Price'].fillna(min_price_mean, inplace=True)\n",
    "\n",
    "# Calculate the mean of 'Max.Price' excluding NaN values\n",
    "max_price_mean = df['Max.Price'].mean()\n",
    "\n",
    "# Replace NaN values in 'Max.Price' with its mean\n",
    "df['Max.Price'].fillna(max_price_mean, inplace=True)\n",
    "\n",
    "print(df[['Min.Price', 'Max.Price']])\n"
   ]
  },
  {
   "cell_type": "markdown",
   "id": "99e93fe6",
   "metadata": {},
   "source": [
    "3. How to get the rows of a dataframe with row sum > 100?\n",
    "\n",
    "```\n",
    "df = pd.DataFrame(np.random.randint(10, 40, 60).reshape(-1, 4))"
   ]
  },
  {
   "cell_type": "code",
   "execution_count": null,
   "id": "1377c1b1",
   "metadata": {},
   "outputs": [],
   "source": [
    "!pip3 install pandas\n",
    "import pandas as pd\n",
    "import numpy as np\n",
    "\n",
    "# Creating a DataFrame with random integers between 10 and 40\n",
    "df = pd.DataFrame(np.random.randint(10, 40, 60).reshape(-1, 4))\n",
    "\n",
    "# Calculating the row sum\n",
    "row_sum = df.sum(axis=1)\n",
    "\n",
    "# Filtering the rows where the sum is greater than 100\n",
    "rows_greater_than_100 = df[row_sum > 100]\n",
    "\n",
    "print(\"Original DataFrame:\")\n",
    "print(df)\n",
    "print(\"\\nRows with sum > 100:\")\n",
    "print(rows_greater_than_100)\n"
   ]
  },
  {
   "cell_type": "code",
   "execution_count": null,
   "id": "83e989c3",
   "metadata": {},
   "outputs": [],
   "source": []
  }
 ],
 "metadata": {
  "kernelspec": {
   "display_name": "Python 3",
   "language": "python",
   "name": "python3"
  },
  "language_info": {
   "codemirror_mode": {
    "name": "ipython",
    "version": 3
   },
   "file_extension": ".py",
   "mimetype": "text/x-python",
   "name": "python",
   "nbconvert_exporter": "python",
   "pygments_lexer": "ipython3",
   "version": "3.9.4"
  }
 },
 "nbformat": 4,
 "nbformat_minor": 5
}
