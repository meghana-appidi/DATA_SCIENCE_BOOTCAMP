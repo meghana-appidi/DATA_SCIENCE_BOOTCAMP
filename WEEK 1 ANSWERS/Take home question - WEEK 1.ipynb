{
 "cells": [
  {
   "cell_type": "markdown",
   "id": "88defb19",
   "metadata": {},
   "source": [
    "# Take Home Exercices - Week 1"
   ]
  },
  {
   "cell_type": "markdown",
   "id": "18e4e46d",
   "metadata": {},
   "source": [
    "## 1. Write a function that takes a word as an argument and returns the number of vowels in the word"
   ]
  },
  {
   "cell_type": "code",
   "execution_count": 1,
   "id": "0b85b5d4",
   "metadata": {},
   "outputs": [
    {
     "name": "stdout",
     "output_type": "stream",
     "text": [
      "Enter any string: toy\n",
      "Number of vowels in word:  1\n"
     ]
    }
   ],
   "source": [
    "# Function to return the number of vowels in a word.\n",
    "\n",
    "vowels = [\"a\", \"e\", \"i\", \"o\", \"u\"]\n",
    "\n",
    "def no_of_vowels(word):\n",
    "    word = word.lower() #coverts any uppercase characters to lowercase\n",
    "    count = len([x for x in word if x in vowels]) # using list comprehension\n",
    "    print(\"Number of vowels in word: \", count)\n",
    "\n",
    "word = input(\"Enter any string: \")\n",
    "no_of_vowels(word)"
   ]
  },
  {
   "cell_type": "markdown",
   "id": "552d192f",
   "metadata": {},
   "source": [
    "## 2. Iterate through the following list of animals and print each one in all caps.\n",
    "animals=['tiger', 'elephant', 'monkey', 'zebra', 'panther']"
   ]
  },
  {
   "cell_type": "code",
   "execution_count": 18,
   "id": "475608ff",
   "metadata": {},
   "outputs": [
    {
     "name": "stdout",
     "output_type": "stream",
     "text": [
      "Tiger Elephant Monkey Zebra Panther "
     ]
    }
   ],
   "source": [
    "# Program to captialise each word in given list\n",
    "\n",
    "animals=['tiger', 'elephant', 'monkey', 'zebra', 'panther']\n",
    "animals = [animal.title() for animal in animals]\n",
    "for i in animals:\n",
    "  print(i, end=\" \")"
   ]
  },
  {
   "cell_type": "markdown",
   "id": "06eebeda",
   "metadata": {},
   "source": [
    "## 3.Iterate from 1 to 15, printing whether the number is odd or even\n"
   ]
  },
  {
   "cell_type": "code",
   "execution_count": 37,
   "id": "cd4e43dd",
   "metadata": {},
   "outputs": [
    {
     "name": "stdout",
     "output_type": "stream",
     "text": [
      "1 is odd\n",
      "2 is even\n",
      "3 is odd\n",
      "4 is even\n",
      "5 is odd\n",
      "6 is even\n",
      "7 is odd\n",
      "8 is even\n",
      "9 is odd\n",
      "10 is even\n",
      "11 is odd\n",
      "12 is even\n",
      "13 is odd\n",
      "14 is even\n",
      "15 is odd\n"
     ]
    }
   ],
   "source": [
    "# Program to check if numbers between 1 to 15 are odd or even\n",
    " \n",
    "start, end = 1, 15\n",
    " \n",
    "# iterating each number\n",
    "for num in range(start, end + 1):\n",
    "     \n",
    "    # checking condition\n",
    "    if num % 2 == 0:\n",
    "        print(num, \"is even\" )\n",
    "    elif num % 2!= 0:\n",
    "        print(num, \"is odd\" )\n",
    "        \n",
    "    "
   ]
  },
  {
   "cell_type": "markdown",
   "id": "19bd4641",
   "metadata": {},
   "source": [
    "## 4.Take two integers as input from user and return the sum"
   ]
  },
  {
   "cell_type": "code",
   "execution_count": 46,
   "id": "185a1b1b",
   "metadata": {},
   "outputs": [
    {
     "name": "stdout",
     "output_type": "stream",
     "text": [
      "Enter first integer: 7\n",
      "Enter first integer: 8\n",
      "Sum of integers is: 15\n"
     ]
    }
   ],
   "source": [
    "# Program to return sum of two intergers from user input \n",
    "    \n",
    "int1= int((input(\"Enter first integer: \")))\n",
    "int2= int((input(\"Enter first integer: \")))\n",
    "print(\"Sum of integers is:\", int1 + int2)"
   ]
  }
 ],
 "metadata": {
  "kernelspec": {
   "display_name": "Python 3",
   "language": "python",
   "name": "python3"
  },
  "language_info": {
   "codemirror_mode": {
    "name": "ipython",
    "version": 3
   },
   "file_extension": ".py",
   "mimetype": "text/x-python",
   "name": "python",
   "nbconvert_exporter": "python",
   "pygments_lexer": "ipython3",
   "version": "3.9.4"
  }
 },
 "nbformat": 4,
 "nbformat_minor": 5
}
