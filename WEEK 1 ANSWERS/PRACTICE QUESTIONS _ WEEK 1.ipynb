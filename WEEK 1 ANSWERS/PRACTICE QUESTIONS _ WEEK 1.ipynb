{
 "cells": [
  {
   "cell_type": "markdown",
   "id": "9384b6c8",
   "metadata": {},
   "source": [
    "# Practice question - Week 1\n",
    "\n",
    "## 1. Display Fibonacci Series upto 10 terms"
   ]
  },
  {
   "cell_type": "code",
   "execution_count": 6,
   "id": "941da12a",
   "metadata": {},
   "outputs": [
    {
     "name": "stdout",
     "output_type": "stream",
     "text": [
      "Fibonacci Series: 0 1 1 2 3 5 8 13 21 34 \n"
     ]
    }
   ],
   "source": [
    "# Program to display fibonacci series upto 10 terms\n",
    "\n",
    "n1, n2 = 0, 1\n",
    "print(\"Fibonacci Series:\", n1, n2, end=\" \")\n",
    "for i in range(2, 10):\n",
    "    n3 = n1 + n2\n",
    "    n1 = n2\n",
    "    n2 = n3\n",
    "    print(n3, end=\" \")\n",
    "\n",
    "print()"
   ]
  },
  {
   "cell_type": "markdown",
   "id": "518637df",
   "metadata": {},
   "source": [
    "## 2. Display numbers at the odd indices of a list"
   ]
  },
  {
   "cell_type": "code",
   "execution_count": 7,
   "id": "903c95ab",
   "metadata": {},
   "outputs": [
    {
     "name": "stdout",
     "output_type": "stream",
     "text": [
      "[2, 4, 5]\n"
     ]
    }
   ],
   "source": [
    "# Program to display numbers at odd indices of a list\n",
    "\n",
    "list = [1, 2, 3, 4, \"abc\", 5] \n",
    "print(list[1::2]) #slicing"
   ]
  },
  {
   "cell_type": "markdown",
   "id": "e0035766",
   "metadata": {},
   "source": [
    "## 3. Print a list in reverse order"
   ]
  },
  {
   "cell_type": "code",
   "execution_count": 9,
   "id": "2be9a41e",
   "metadata": {},
   "outputs": [
    {
     "name": "stdout",
     "output_type": "stream",
     "text": [
      "[5, 'abc', 4, 3, 2, 1]\n"
     ]
    }
   ],
   "source": [
    "# Program to display list in reverse order\n",
    "\n",
    "list = [1, 2, 3, 4, \"abc\", 5] \n",
    "print(list[::-1]) #slicing"
   ]
  },
  {
   "cell_type": "markdown",
   "id": "13e8bede",
   "metadata": {},
   "source": [
    "## 4. Your task is to count the number of different words in this text\n",
    "\t\n",
    "\tstring = \"\"\"\n",
    "\tChatGPT has created this text to provide tips on creating interesting paragraphs. \n",
    "\tFirst, start with a clear topic sentence that introduces the main idea. \n",
    "\tThen, support the topic sentence with specific details, examples, and evidence.\n",
    "\tVary the sentence length and structure to keep the reader engaged.\n",
    "\tFinally, end with a strong concluding sentence that summarizes the main points.\n",
    "\tRemember, practice makes perfect!\n",
    "\t\"\"\""
   ]
  },
  {
   "cell_type": "code",
   "execution_count": 15,
   "id": "7fd4741a",
   "metadata": {},
   "outputs": [
    {
     "name": "stdout",
     "output_type": "stream",
     "text": [
      "47\n"
     ]
    }
   ],
   "source": [
    "# Program to count the number of different words in the given text\n",
    "\n",
    "string = \"\"\"\n",
    "ChatGPT has created this text to provide tips on creating interesting paragraphs. \n",
    "First, start with a clear topic sentence that introduces the main idea. \n",
    "Then, support the topic sentence with specific details, examples, and evidence.\n",
    "Vary the sentence length and structure to keep the reader engaged.\n",
    "Finally, end with a strong concluding sentence that summarizes the main points.\n",
    "Remember, practice makes perfect!\n",
    "\"\"\"\n",
    "words = string.split()\n",
    "unique_words = []\n",
    "for w in words:\n",
    "    if w not in uniq_words:\n",
    "        unique_words.append(w)\n",
    "print(len(unique_words))"
   ]
  },
  {
   "cell_type": "markdown",
   "id": "21093283",
   "metadata": {},
   "source": [
    "## 5. Write a function that takes a word as an argument and returns the number of vowels in the word"
   ]
  },
  {
   "cell_type": "code",
   "execution_count": 1,
   "id": "c546c193",
   "metadata": {},
   "outputs": [
    {
     "name": "stdout",
     "output_type": "stream",
     "text": [
      "Enter any string: word\n",
      "Number of vowels in word:  1\n"
     ]
    }
   ],
   "source": [
    "# Function to return the number of vowels in a word.\n",
    "\n",
    "vowels = [\"a\", \"e\", \"i\", \"o\", \"u\"]\n",
    "\n",
    "def no_of_vowels(word):\n",
    "    word = word.lower() #coverts any uppercase characters to lowercase\n",
    "    count = len([x for x in word if x in vowels]) # using list comprehension\n",
    "    print(\"Number of vowels in word: \", count)\n",
    "\n",
    "word = input(\"Enter any string: \")\n",
    "no_of_vowels(word)"
   ]
  },
  {
   "cell_type": "markdown",
   "id": "dd3d4637",
   "metadata": {},
   "source": [
    "## 6. Iterate through the following list of animals and print each one in all caps.\n",
    "\n",
    "  animals=['tiger', 'elephant', 'monkey', 'zebra', 'panther']"
   ]
  },
  {
   "cell_type": "code",
   "execution_count": 2,
   "id": "a5501245",
   "metadata": {},
   "outputs": [
    {
     "name": "stdout",
     "output_type": "stream",
     "text": [
      "Tiger Elephant Monkey Zebra Panther "
     ]
    }
   ],
   "source": [
    "# Program to captialise each word in given list\n",
    "\n",
    "animals=['tiger', 'elephant', 'monkey', 'zebra', 'panther']\n",
    "animals = [animal.title() for animal in animals]\n",
    "for i in animals:\n",
    "  print(i, end=\" \")"
   ]
  },
  {
   "cell_type": "markdown",
   "id": "9e3a922c",
   "metadata": {},
   "source": [
    "## 7. Iterate from 1 to 15, printing whether the number is odd or even"
   ]
  },
  {
   "cell_type": "code",
   "execution_count": 3,
   "id": "dbb2088f",
   "metadata": {},
   "outputs": [
    {
     "name": "stdout",
     "output_type": "stream",
     "text": [
      "1 is odd\n",
      "2 is even\n",
      "3 is odd\n",
      "4 is even\n",
      "5 is odd\n",
      "6 is even\n",
      "7 is odd\n",
      "8 is even\n",
      "9 is odd\n",
      "10 is even\n",
      "11 is odd\n",
      "12 is even\n",
      "13 is odd\n",
      "14 is even\n",
      "15 is odd\n"
     ]
    }
   ],
   "source": [
    "# Program to check if numbers between 1 to 15 are odd or even\n",
    " \n",
    "start, end = 1, 15\n",
    " \n",
    "# iterating each number\n",
    "for num in range(start, end + 1):\n",
    "     \n",
    "    # checking condition\n",
    "    if num % 2 == 0:\n",
    "        print(num, \"is even\" )\n",
    "    elif num % 2!= 0:\n",
    "        print(num, \"is odd\" )\n",
    "        "
   ]
  },
  {
   "cell_type": "markdown",
   "id": "95fce8dc",
   "metadata": {},
   "source": [
    "## 8. Take two integers as input from user and return the sum"
   ]
  },
  {
   "cell_type": "code",
   "execution_count": 4,
   "id": "b6813ef7",
   "metadata": {},
   "outputs": [
    {
     "name": "stdout",
     "output_type": "stream",
     "text": [
      "Enter first integer: 5\n",
      "Enter first integer: 6\n",
      "Sum of integers is: 11\n"
     ]
    }
   ],
   "source": [
    "# Program to return sum of two intergers from user input \n",
    "    \n",
    "int1= int((input(\"Enter first integer: \")))\n",
    "int2= int((input(\"Enter first integer: \")))\n",
    "print(\"Sum of integers is:\", int1 + int2)"
   ]
  },
  {
   "cell_type": "code",
   "execution_count": null,
   "id": "bf371f8a",
   "metadata": {},
   "outputs": [],
   "source": []
  }
 ],
 "metadata": {
  "kernelspec": {
   "display_name": "Python 3",
   "language": "python",
   "name": "python3"
  },
  "language_info": {
   "codemirror_mode": {
    "name": "ipython",
    "version": 3
   },
   "file_extension": ".py",
   "mimetype": "text/x-python",
   "name": "python",
   "nbconvert_exporter": "python",
   "pygments_lexer": "ipython3",
   "version": "3.9.4"
  }
 },
 "nbformat": 4,
 "nbformat_minor": 5
}
